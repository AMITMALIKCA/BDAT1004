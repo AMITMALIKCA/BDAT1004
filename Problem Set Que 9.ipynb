{
 "cells": [
  {
   "cell_type": "markdown",
   "id": "87b74578",
   "metadata": {},
   "source": [
    "# Question 9"
   ]
  },
  {
   "cell_type": "markdown",
   "id": "2e37a5c8",
   "metadata": {},
   "source": [
    "#### Each of the following will cause an exception (an error). Identify what type of exception each will cause."
   ]
  },
  {
   "cell_type": "markdown",
   "id": "0d25b2cf",
   "metadata": {},
   "source": [
    "##### Name: Amit Malik; Student ID: 200548660"
   ]
  },
  {
   "cell_type": "markdown",
   "id": "63c20816",
   "metadata": {},
   "source": [
    "## <span style='color:red'> Task1: Trying to add incompatible variables, as in adding 6 + ‘a’ </span>"
   ]
  },
  {
   "cell_type": "markdown",
   "id": "7726eec2",
   "metadata": {},
   "source": [
    "##### A <span style='color:blue'> TypeError </span> in Python occurs when we try to perform an operation or function call on an object of an incorrect type. "
   ]
  },
  {
   "cell_type": "markdown",
   "id": "6ff304f3",
   "metadata": {},
   "source": [
    "## <span style='color:red'>Task 2: Referring to the 12th item of a list that has only 10 items </span>"
   ]
  },
  {
   "cell_type": "markdown",
   "id": "ed2dc14c",
   "metadata": {},
   "source": [
    "##### An <span style='color:blue'> IndexError </span> in Python occurs when you try to access an index that is outside the range of a list or other sequence data type."
   ]
  },
  {
   "cell_type": "markdown",
   "id": "eb898732",
   "metadata": {},
   "source": [
    "## <span style='color:red'>Task 3: Using a value that is out of range for a function’s input, such as calling math.sqrt(-1.0) </span>"
   ]
  },
  {
   "cell_type": "markdown",
   "id": "dfa6386a",
   "metadata": {},
   "source": [
    "##### An <span style='color:blue'> ValueError </span> in Python occurs when a built-in operation or function receives an argument that has the right type but an inappropriate value, and the situation is not described by any other more specific exception."
   ]
  },
  {
   "cell_type": "markdown",
   "id": "aabed748",
   "metadata": {},
   "source": [
    "## <span style='color:red'>Task 4: Using an undeclared variable, such as print(x) when x has not been defined </span>"
   ]
  },
  {
   "cell_type": "markdown",
   "id": "331e93fd",
   "metadata": {},
   "source": [
    "##### An <span style='color:blue'> NameError </span> in Python occurs when a variable is used that has not been defined or assigned a value"
   ]
  },
  {
   "cell_type": "markdown",
   "id": "eebb02ed",
   "metadata": {},
   "source": [
    "## <span style='color:red'>Task 5: Trying to open a file that does not exist, such as mistyping the file name or looking in the wrong directory.  </span>"
   ]
  },
  {
   "cell_type": "markdown",
   "id": "c89cb755",
   "metadata": {},
   "source": [
    "##### An <span style='color:blue'> FileNotFoundError </span> in Python occurs when you try to access a file that does not exist or cannot be found"
   ]
  }
 ],
 "metadata": {
  "kernelspec": {
   "display_name": "Python 3 (ipykernel)",
   "language": "python",
   "name": "python3"
  },
  "language_info": {
   "codemirror_mode": {
    "name": "ipython",
    "version": 3
   },
   "file_extension": ".py",
   "mimetype": "text/x-python",
   "name": "python",
   "nbconvert_exporter": "python",
   "pygments_lexer": "ipython3",
   "version": "3.9.13"
  }
 },
 "nbformat": 4,
 "nbformat_minor": 5
}
