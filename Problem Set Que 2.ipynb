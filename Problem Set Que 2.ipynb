{
 "cells": [
  {
   "cell_type": "markdown",
   "id": "56d0b267",
   "metadata": {},
   "source": [
    "# Question 2"
   ]
  },
  {
   "cell_type": "markdown",
   "id": "0153efef",
   "metadata": {},
   "source": [
    "##### Name: Amit Malik; Student ID: 200548660"
   ]
  },
  {
   "cell_type": "markdown",
   "id": "c712c618",
   "metadata": {},
   "source": [
    "### Part A"
   ]
  },
  {
   "cell_type": "code",
   "execution_count": null,
   "id": "d6d17a6e",
   "metadata": {},
   "outputs": [],
   "source": [
    "using Syste;\n",
    "using System.Collections.Generic;\n",
    "\n",
    "string str1 = \"Supercalifragilisticexpialidocious\";\n",
    "Console.WriteLine(\"There are {0} letters in str1\", str1.Length);"
   ]
  },
  {
   "cell_type": "markdown",
   "id": "a18b804d",
   "metadata": {},
   "source": [
    "### Part B"
   ]
  },
  {
   "cell_type": "code",
   "execution_count": 2,
   "id": "9ae4cc10",
   "metadata": {},
   "outputs": [
    {
     "name": "stdout",
     "output_type": "stream",
     "text": [
      "The value of str3 is in str2 = True\r\n"
     ]
    }
   ],
   "source": [
    "string str2 = \"Supercalifragilisticexpialidocious\"; \n",
    "string str3 = \"ice\";\n",
    "\n",
    "Console.WriteLine(\"The value of str3 is in str2 = {0}\", str2.Contains(str3));"
   ]
  },
  {
   "cell_type": "markdown",
   "id": "945d6aa0",
   "metadata": {},
   "source": [
    "### Part C"
   ]
  },
  {
   "cell_type": "code",
   "execution_count": 3,
   "id": "c179cb4a",
   "metadata": {},
   "outputs": [
    {
     "name": "stdout",
     "output_type": "stream",
     "text": [
      "The longgest word is = Supercalifragilisticexpialidocious\r\n"
     ]
    }
   ],
   "source": [
    "string str4 = \"Supercalifragilisticexpialidocious\";\n",
    "string str5 = \"Honorificabilitudinitatibus\";\n",
    "string str6 = \"Bababadalgharaghtakamminarronnkonn\";\n",
    "\n",
    "if ((str4.Length>=str5.Length) && (str4.Length>=str6.Length))\n",
    "    Console.WriteLine(\"The longgest word is = {0}\", str4);  \n",
    "                \n",
    "else if (str5.Length >= str6.Length)\n",
    "    Console.WriteLine(\"The longgest word is = {0}\", str5);\n",
    "else\n",
    "    Console.WriteLine(\"The longgest word is = {0}\", str6);"
   ]
  },
  {
   "cell_type": "markdown",
   "id": "609334e7",
   "metadata": {},
   "source": [
    "### Part D"
   ]
  },
  {
   "cell_type": "code",
   "execution_count": 4,
   "id": "2ca7a776",
   "metadata": {},
   "outputs": [
    {
     "name": "stdout",
     "output_type": "stream",
     "text": [
      "Bartok\n",
      "Bellini\n",
      "Berlioz\n",
      "Bernstein\n",
      "Borodin\n",
      "Brian\n",
      "Buxtehude\r\n"
     ]
    }
   ],
   "source": [
    "var MyList = new List<string>();\n",
    "\n",
    "MyList.Add(\"Berlioz\");\n",
    "MyList.Add(\"Borodin\");\n",
    "MyList.Add(\"Brian\");\n",
    "MyList.Add(\"Bartok\");\n",
    "MyList.Add(\"Bellini\");\n",
    "MyList.Add(\"Buxtehude\");\n",
    "MyList.Add(\"Bernstein\");\n",
    "\n",
    "MyList.Sort();\n",
    "Console.WriteLine(string.Join(\"\\n\", \n",
    "\n",
    "MyList));\n"
   ]
  }
 ],
 "metadata": {
  "kernelspec": {
   "display_name": ".NET (C#)",
   "language": "C#",
   "name": ".net-csharp"
  },
  "language_info": {
   "file_extension": ".cs",
   "mimetype": "text/x-csharp",
   "name": "C#",
   "pygments_lexer": "csharp",
   "version": "8.0"
  }
 },
 "nbformat": 4,
 "nbformat_minor": 5
}
