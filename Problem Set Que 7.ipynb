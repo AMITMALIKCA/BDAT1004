{
 "cells": [
  {
   "cell_type": "markdown",
   "id": "c8dcc553",
   "metadata": {},
   "source": [
    "# Question 7"
   ]
  },
  {
   "cell_type": "markdown",
   "id": "67ca080f",
   "metadata": {},
   "source": [
    "#### Write a function bldcount() that reads the file with name name and reports (i.e., prints) how many patients there are in each bloodtype."
   ]
  },
  {
   "cell_type": "markdown",
   "id": "a19d0447",
   "metadata": {},
   "source": [
    "##### Name: Amit Malik; Student ID: 200548660"
   ]
  },
  {
   "cell_type": "code",
   "execution_count": 22,
   "id": "b36dd59a",
   "metadata": {},
   "outputs": [
    {
     "name": "stdout",
     "output_type": "stream",
     "text": [
      "There are 15 patients of blood type A.\n",
      "There are 1 patients of blood type B.\n",
      "There are 13 patients of blood type AB.\n",
      "There are 15 patients of blood type O.\n",
      "There are 0 patients of blood type OO.\n"
     ]
    }
   ],
   "source": [
    "def bldcount(file):\n",
    "    d = {\"A\":0,\"B\":0,\"AB\":0,\"O\":0,\"OO\":0}\n",
    "    for i in file:\n",
    "        i = i.strip()\n",
    "        word = i.split(\" \")\n",
    "\n",
    "        for k in word:\n",
    "            if k in d:\n",
    "                d[k] = d[k] + 1\n",
    "            else:\n",
    "                d[k] = 1\n",
    "    for key in list(d.keys()):\n",
    "        print(f\"There are {d[key]} patients of blood type {key}.\")\n",
    "    \n",
    "file = open(\"blood.txt\", \"r\")\n",
    "\n",
    "bldcount(file)"
   ]
  }
 ],
 "metadata": {
  "kernelspec": {
   "display_name": "Python 3 (ipykernel)",
   "language": "python",
   "name": "python3"
  },
  "language_info": {
   "codemirror_mode": {
    "name": "ipython",
    "version": 3
   },
   "file_extension": ".py",
   "mimetype": "text/x-python",
   "name": "python",
   "nbconvert_exporter": "python",
   "pygments_lexer": "ipython3",
   "version": "3.9.13"
  }
 },
 "nbformat": 4,
 "nbformat_minor": 5
}
