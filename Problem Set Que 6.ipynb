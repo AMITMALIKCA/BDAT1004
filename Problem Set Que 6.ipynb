{
 "cells": [
  {
   "cell_type": "markdown",
   "id": "cbe5a5e2",
   "metadata": {},
   "source": [
    "# Question 6"
   ]
  },
  {
   "cell_type": "markdown",
   "id": "35017422",
   "metadata": {},
   "source": [
    "#### Write a function pig() that takes a word (i.e., a string) as input and returns its pigLatin form. Your function should still work if the input word contains upper case characters. Your output should always be lower case however. "
   ]
  },
  {
   "cell_type": "markdown",
   "id": "a523e85d",
   "metadata": {},
   "source": [
    "##### Name: Amit Malik; Student ID: 200548660"
   ]
  },
  {
   "cell_type": "code",
   "execution_count": 3,
   "id": "309a6c62",
   "metadata": {},
   "outputs": [
    {
     "name": "stdout",
     "output_type": "stream",
     "text": [
      "Enter Word: enter\n",
      " Your output is:  enterway\n"
     ]
    }
   ],
   "source": [
    "def pig(s):\n",
    "    vowels= [\"a\",\"e\",\"i\",\"o\",\"u\"]\n",
    "    if (s[0] in vowels):\n",
    "        return (s + \"way\")\n",
    "    else:\n",
    "        return (s[1:] + s[0] + \"ay\")\n",
    "\n",
    "word = str(input(\"Enter Word: \"))\n",
    "print(\" Your output is: \",pig(word))"
   ]
  }
 ],
 "metadata": {
  "kernelspec": {
   "display_name": "Python 3 (ipykernel)",
   "language": "python",
   "name": "python3"
  },
  "language_info": {
   "codemirror_mode": {
    "name": "ipython",
    "version": 3
   },
   "file_extension": ".py",
   "mimetype": "text/x-python",
   "name": "python",
   "nbconvert_exporter": "python",
   "pygments_lexer": "ipython3",
   "version": "3.9.13"
  }
 },
 "nbformat": 4,
 "nbformat_minor": 5
}
