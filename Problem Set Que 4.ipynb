{
 "cells": [
  {
   "cell_type": "markdown",
   "id": "b8815f67",
   "metadata": {},
   "source": [
    "# Question 4"
   ]
  },
  {
   "cell_type": "markdown",
   "id": "88eac3d7",
   "metadata": {},
   "source": [
    "##### Name: Amit Malik; Student Id: 200548660"
   ]
  },
  {
   "cell_type": "code",
   "execution_count": null,
   "id": "ff8b2093",
   "metadata": {},
   "outputs": [],
   "source": [
    "Console.Write(\"Enter Numbers in Array \");\n",
    "int total = Convert.ToInt32(Console.ReadLine());\n",
    "Console.WriteLine(\"Enter \"+total+\" elements in the array : \");\n",
    "int[] array = new int[total];\n",
    "for(int i=0;i<total;i++)\n",
    "{\n",
    "    Console.Write(\"element - \"+i+\" : \");\n",
    "    array[i] = Convert.ToInt32(Console.ReadLine());\n",
    "}\n",
    "int[] odd = new int[total];\n",
    "int[] even = new int[total];\n",
    "\n",
    "int j = 0;\n",
    "for(int i=0;i<total;i++)\n",
    "{\n",
    "    if(array[i]%2 == 0)\n",
    "    {\n",
    "        even[j++] = array[i];\n",
    "    }\n",
    "}\n",
    "Console.WriteLine(\"\\nThe Even elements are : \");\n",
    "for(int i=0;i<j;i++)\n",
    "{\n",
    "    Console.Write(even[i] + \"  \");\n",
    "\n",
    "}\n",
    "j = 0;\n",
    "for(int i=0;i<total;i++)\n",
    "{\n",
    "    if(array[i]%2 != 0)\n",
    "    {\n",
    "        odd[j++] = array[i];\n",
    "    }\n",
    "}\n",
    "Console.WriteLine(\"\\nThe Odd elements are : \");\n",
    "for(int i=0;i<j;i++)\n",
    "{\n",
    "    Console.Write(odd[i] + \"  \");\n",
    "}"
   ]
  }
 ],
 "metadata": {
  "kernelspec": {
   "display_name": ".NET (F#)",
   "language": "F#",
   "name": ".net-fsharp"
  },
  "language_info": {
   "file_extension": ".fs",
   "mimetype": "text/x-fsharp",
   "name": "C#",
   "pygments_lexer": "fsharp",
   "version": "4.5"
  }
 },
 "nbformat": 4,
 "nbformat_minor": 5
}
