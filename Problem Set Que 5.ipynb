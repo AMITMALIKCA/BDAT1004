{
 "cells": [
  {
   "cell_type": "markdown",
   "id": "21faf2af",
   "metadata": {},
   "source": [
    "# Question 5"
   ]
  },
  {
   "cell_type": "markdown",
   "id": "8cb92727",
   "metadata": {},
   "source": [
    "##### Name: Amit Malik; Student ID: 200548660"
   ]
  },
  {
   "cell_type": "code",
   "execution_count": null,
   "id": "f856217f",
   "metadata": {},
   "outputs": [],
   "source": [
    "using System;\n",
    "\n",
    "public static class Globals\n",
    "{\n",
    "     \n",
    "\n",
    "\n",
    "    public static bool inside(double x, double y, double x1, double y1, double x2, double y2)\n",
    "    {\n",
    "        if (x > x1 && x < x2 && y > y1 && y < y2)\n",
    "        {\n",
    "            return true;\n",
    "        }\n",
    "\n",
    "        return false;\n",
    "    }\n",
    "\n",
    "\n",
    "    internal static void Main()\n",
    "    {\n",
    "        double x = 1;\n",
    "        double y = 1;\n",
    "        if (inside(x, y, 0.3, 0.5, 1.1, 0.7) && inside(x, y, 0.5, 0.2, 1.1, 2))\n",
    "        {\n",
    "            Console.Write(\"True\");\n",
    "        }\n",
    "        else\n",
    "        {\n",
    "            Console.Write(\"False\");\n",
    "\n",
    "        }\n",
    "\n",
    "\n",
    "    }\n",
    "}"
   ]
  }
 ],
 "metadata": {
  "kernelspec": {
   "display_name": ".NET (C#)",
   "language": "C#",
   "name": ".net-csharp"
  },
  "language_info": {
   "file_extension": ".cs",
   "mimetype": "text/x-csharp",
   "name": "C#",
   "pygments_lexer": "csharp",
   "version": "8.0"
  }
 },
 "nbformat": 4,
 "nbformat_minor": 5
}
