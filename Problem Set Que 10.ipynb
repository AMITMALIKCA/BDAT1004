{
 "cells": [
  {
   "cell_type": "markdown",
   "id": "87b74578",
   "metadata": {},
   "source": [
    "# Question 10"
   ]
  },
  {
   "cell_type": "markdown",
   "id": "2e37a5c8",
   "metadata": {},
   "source": [
    "#### Write a function called frequencies() that takes a string as its only parameter, and returns a list of integers, showing the number of times each character appears in the text. Your function may ignore any characters that are not in letters. "
   ]
  },
  {
   "cell_type": "markdown",
   "id": "0d25b2cf",
   "metadata": {},
   "source": [
    "##### Name: Amit Malik; Student ID: 200548660"
   ]
  },
  {
   "cell_type": "code",
   "execution_count": 7,
   "id": "2209eab8",
   "metadata": {},
   "outputs": [
    {
     "name": "stdout",
     "output_type": "stream",
     "text": [
      "Enter Text: Amit Malik student at Georgian College\n",
      "[4, 0, 1, 1, 4, 0, 3, 0, 3, 0, 1, 3, 2, 2, 2, 0, 0, 1, 1, 4, 1, 0, 0, 0, 0, 0]\n"
     ]
    }
   ],
   "source": [
    "def frequencies(string):\n",
    "    lst = [0] * 26\n",
    "    for i in string:\n",
    "        if i.isalpha():\n",
    "            c = ord(i.lower()) - ord('a')\n",
    "            lst[c] += 1\n",
    "    return lst\n",
    "\n",
    "string = str(input(\"Enter Text: \"))\n",
    "print(frequencies(string))"
   ]
  },
  {
   "cell_type": "code",
   "execution_count": null,
   "id": "aba3283f",
   "metadata": {},
   "outputs": [],
   "source": []
  }
 ],
 "metadata": {
  "kernelspec": {
   "display_name": "Python 3 (ipykernel)",
   "language": "python",
   "name": "python3"
  },
  "language_info": {
   "codemirror_mode": {
    "name": "ipython",
    "version": 3
   },
   "file_extension": ".py",
   "mimetype": "text/x-python",
   "name": "python",
   "nbconvert_exporter": "python",
   "pygments_lexer": "ipython3",
   "version": "3.9.13"
  }
 },
 "nbformat": 4,
 "nbformat_minor": 5
}
