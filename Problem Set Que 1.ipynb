{
 "cells": [
  {
   "cell_type": "markdown",
   "id": "419ab013",
   "metadata": {},
   "source": [
    "## Question 1"
   ]
  },
  {
   "cell_type": "markdown",
   "id": "84a70519",
   "metadata": {},
   "source": [
    "##### Name: Amit Malik; Student ID: 200548660"
   ]
  },
  {
   "cell_type": "markdown",
   "id": "c5548f1b",
   "metadata": {},
   "source": [
    "#### 5 is a Integer"
   ]
  },
  {
   "cell_type": "markdown",
   "id": "9e18cacc",
   "metadata": {},
   "source": [
    "#### 5.0 is float"
   ]
  },
  {
   "cell_type": "markdown",
   "id": "d53dbcb3",
   "metadata": {},
   "source": [
    "#### 5>1 will return a boolean "
   ]
  },
  {
   "cell_type": "markdown",
   "id": "5d874f6a",
   "metadata": {},
   "source": [
    "#### '5' is a string"
   ]
  },
  {
   "cell_type": "markdown",
   "id": "4a8e36cd",
   "metadata": {},
   "source": [
    "#### 5 * 2 will retrun a integer (10)"
   ]
  },
  {
   "cell_type": "markdown",
   "id": "b78af2f0",
   "metadata": {},
   "source": [
    "#### '5' * 2 will retrun string ('55') "
   ]
  },
  {
   "cell_type": "markdown",
   "id": "91fdbd78",
   "metadata": {},
   "source": [
    "#### \"5\"+\"2\" will return string (52)"
   ]
  },
  {
   "cell_type": "markdown",
   "id": "705c63a2",
   "metadata": {},
   "source": [
    "#### 5 / 2 will return int (2)"
   ]
  },
  {
   "cell_type": "markdown",
   "id": "16569b55",
   "metadata": {},
   "source": [
    "#### 5%2 will return int (1)"
   ]
  },
  {
   "cell_type": "markdown",
   "id": "3fb7651e",
   "metadata": {},
   "source": [
    "#### 5==3 will return boolean (False)"
   ]
  },
  {
   "cell_type": "markdown",
   "id": "f812fbf5",
   "metadata": {},
   "source": [
    "#### pi (3.14) will return float"
   ]
  }
 ],
 "metadata": {
  "kernelspec": {
   "display_name": ".NET (C#)",
   "language": "C#",
   "name": ".net-csharp"
  },
  "language_info": {
   "file_extension": ".cs",
   "mimetype": "text/x-csharp",
   "name": "C#",
   "pygments_lexer": "csharp",
   "version": "8.0"
  }
 },
 "nbformat": 4,
 "nbformat_minor": 5
}
