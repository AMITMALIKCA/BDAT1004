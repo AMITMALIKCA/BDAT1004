{
 "cells": [
  {
   "cell_type": "markdown",
   "id": "33c58bf5",
   "metadata": {},
   "source": [
    "# Question 8"
   ]
  },
  {
   "cell_type": "markdown",
   "id": "6022b18e",
   "metadata": {},
   "source": [
    "#### Write a function curconv() that takes as input: 1. a currency represented using a string (e.g., 'JPY' for the Japanese Yen or 'EUR' for the Euro) 2. an amount ; and then converts and returns the amount in US dollars."
   ]
  },
  {
   "cell_type": "markdown",
   "id": "53f623fd",
   "metadata": {},
   "source": [
    "##### Name: Amit Malik; Student ID: 200548660"
   ]
  },
  {
   "cell_type": "code",
   "execution_count": 3,
   "id": "1770ea02",
   "metadata": {},
   "outputs": [
    {
     "name": "stdout",
     "output_type": "stream",
     "text": [
      "Converted amount in USD:  122.96544\n"
     ]
    }
   ],
   "source": [
    "def curConv(Currency, value):\n",
    "    f = open(\"currency.txt\")\n",
    "    lines = f.readlines()\n",
    "    for line in lines:\n",
    "        s = line.strip().split('\\t')\n",
    "        code = s[0]\n",
    "        convFactor = float(s[1])\n",
    "        name = s[2]\n",
    "        \n",
    "        if Currency == code:\n",
    "            return value * convFactor\n",
    "res = curConv('EUR', 100)\n",
    "print(\"Converted amount in USD: \", res)"
   ]
  },
  {
   "cell_type": "code",
   "execution_count": null,
   "id": "578b7303",
   "metadata": {},
   "outputs": [],
   "source": []
  }
 ],
 "metadata": {
  "kernelspec": {
   "display_name": "Python 3 (ipykernel)",
   "language": "python",
   "name": "python3"
  },
  "language_info": {
   "codemirror_mode": {
    "name": "ipython",
    "version": 3
   },
   "file_extension": ".py",
   "mimetype": "text/x-python",
   "name": "python",
   "nbconvert_exporter": "python",
   "pygments_lexer": "ipython3",
   "version": "3.9.13"
  }
 },
 "nbformat": 4,
 "nbformat_minor": 5
}
